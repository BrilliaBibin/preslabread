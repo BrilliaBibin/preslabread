{
  "nbformat": 4,
  "nbformat_minor": 0,
  "metadata": {
    "colab": {
      "provenance": [],
      "gpuType": "T4"
    },
    "kernelspec": {
      "name": "python3",
      "display_name": "Python 3"
    },
    "language_info": {
      "name": "python"
    },
    "accelerator": "GPU"
  },
  "cells": [
    {
      "cell_type": "code",
      "execution_count": 56,
      "metadata": {
        "colab": {
          "base_uri": "https://localhost:8080/"
        },
        "id": "2zSpQE7ozXq-",
        "outputId": "4a60e909-ba6d-4f9f-cbd1-6acb1f35837a"
      },
      "outputs": [
        {
          "output_type": "stream",
          "name": "stdout",
          "text": [
            "Requirement already satisfied: paddleocr in /usr/local/lib/python3.10/dist-packages (2.7.0.3)\n",
            "Requirement already satisfied: flask in /usr/local/lib/python3.10/dist-packages (2.2.5)\n",
            "Requirement already satisfied: gtts in /usr/local/lib/python3.10/dist-packages (2.4.0)\n",
            "Requirement already satisfied: shapely in /usr/local/lib/python3.10/dist-packages (from paddleocr) (2.0.2)\n",
            "Requirement already satisfied: scikit-image in /usr/local/lib/python3.10/dist-packages (from paddleocr) (0.19.3)\n",
            "Requirement already satisfied: imgaug in /usr/local/lib/python3.10/dist-packages (from paddleocr) (0.4.0)\n",
            "Requirement already satisfied: pyclipper in /usr/local/lib/python3.10/dist-packages (from paddleocr) (1.3.0.post5)\n",
            "Requirement already satisfied: lmdb in /usr/local/lib/python3.10/dist-packages (from paddleocr) (1.4.1)\n",
            "Requirement already satisfied: tqdm in /usr/local/lib/python3.10/dist-packages (from paddleocr) (4.66.1)\n",
            "Requirement already satisfied: numpy in /usr/local/lib/python3.10/dist-packages (from paddleocr) (1.23.5)\n",
            "Requirement already satisfied: visualdl in /usr/local/lib/python3.10/dist-packages (from paddleocr) (2.5.3)\n",
            "Requirement already satisfied: rapidfuzz in /usr/local/lib/python3.10/dist-packages (from paddleocr) (3.5.2)\n",
            "Requirement already satisfied: opencv-python<=4.6.0.66 in /usr/local/lib/python3.10/dist-packages (from paddleocr) (4.6.0.66)\n",
            "Requirement already satisfied: opencv-contrib-python<=4.6.0.66 in /usr/local/lib/python3.10/dist-packages (from paddleocr) (4.6.0.66)\n",
            "Requirement already satisfied: cython in /usr/local/lib/python3.10/dist-packages (from paddleocr) (3.0.5)\n",
            "Requirement already satisfied: lxml in /usr/local/lib/python3.10/dist-packages (from paddleocr) (4.9.3)\n",
            "Requirement already satisfied: premailer in /usr/local/lib/python3.10/dist-packages (from paddleocr) (3.10.0)\n",
            "Requirement already satisfied: openpyxl in /usr/local/lib/python3.10/dist-packages (from paddleocr) (3.1.2)\n",
            "Requirement already satisfied: attrdict in /usr/local/lib/python3.10/dist-packages (from paddleocr) (2.0.1)\n",
            "Requirement already satisfied: PyMuPDF<1.21.0 in /usr/local/lib/python3.10/dist-packages (from paddleocr) (1.20.2)\n",
            "Requirement already satisfied: Pillow>=10.0.0 in /usr/local/lib/python3.10/dist-packages (from paddleocr) (10.0.1)\n",
            "Requirement already satisfied: pyyaml in /usr/local/lib/python3.10/dist-packages (from paddleocr) (6.0.1)\n",
            "Requirement already satisfied: python-docx in /usr/local/lib/python3.10/dist-packages (from paddleocr) (1.1.0)\n",
            "Requirement already satisfied: beautifulsoup4 in /usr/local/lib/python3.10/dist-packages (from paddleocr) (4.11.2)\n",
            "Requirement already satisfied: fonttools>=4.24.0 in /usr/local/lib/python3.10/dist-packages (from paddleocr) (4.44.3)\n",
            "Requirement already satisfied: fire>=0.3.0 in /usr/local/lib/python3.10/dist-packages (from paddleocr) (0.5.0)\n",
            "Requirement already satisfied: pdf2docx in /usr/local/lib/python3.10/dist-packages (from paddleocr) (0.5.6)\n",
            "Requirement already satisfied: Werkzeug>=2.2.2 in /usr/local/lib/python3.10/dist-packages (from flask) (3.0.1)\n",
            "Requirement already satisfied: Jinja2>=3.0 in /usr/local/lib/python3.10/dist-packages (from flask) (3.1.2)\n",
            "Requirement already satisfied: itsdangerous>=2.0 in /usr/local/lib/python3.10/dist-packages (from flask) (2.1.2)\n",
            "Requirement already satisfied: click>=8.0 in /usr/local/lib/python3.10/dist-packages (from flask) (8.1.7)\n",
            "Requirement already satisfied: requests<3,>=2.27 in /usr/local/lib/python3.10/dist-packages (from gtts) (2.31.0)\n",
            "Requirement already satisfied: six in /usr/local/lib/python3.10/dist-packages (from fire>=0.3.0->paddleocr) (1.16.0)\n",
            "Requirement already satisfied: termcolor in /usr/local/lib/python3.10/dist-packages (from fire>=0.3.0->paddleocr) (2.3.0)\n",
            "Requirement already satisfied: MarkupSafe>=2.0 in /usr/local/lib/python3.10/dist-packages (from Jinja2>=3.0->flask) (2.1.3)\n",
            "Requirement already satisfied: charset-normalizer<4,>=2 in /usr/local/lib/python3.10/dist-packages (from requests<3,>=2.27->gtts) (3.3.2)\n",
            "Requirement already satisfied: idna<4,>=2.5 in /usr/local/lib/python3.10/dist-packages (from requests<3,>=2.27->gtts) (3.4)\n",
            "Requirement already satisfied: urllib3<3,>=1.21.1 in /usr/local/lib/python3.10/dist-packages (from requests<3,>=2.27->gtts) (2.0.7)\n",
            "Requirement already satisfied: certifi>=2017.4.17 in /usr/local/lib/python3.10/dist-packages (from requests<3,>=2.27->gtts) (2023.7.22)\n",
            "Requirement already satisfied: soupsieve>1.2 in /usr/local/lib/python3.10/dist-packages (from beautifulsoup4->paddleocr) (2.5)\n",
            "Requirement already satisfied: scipy in /usr/local/lib/python3.10/dist-packages (from imgaug->paddleocr) (1.11.3)\n",
            "Requirement already satisfied: matplotlib in /usr/local/lib/python3.10/dist-packages (from imgaug->paddleocr) (3.7.1)\n",
            "Requirement already satisfied: imageio in /usr/local/lib/python3.10/dist-packages (from imgaug->paddleocr) (2.31.6)\n",
            "Requirement already satisfied: networkx>=2.2 in /usr/local/lib/python3.10/dist-packages (from scikit-image->paddleocr) (3.2.1)\n",
            "Requirement already satisfied: tifffile>=2019.7.26 in /usr/local/lib/python3.10/dist-packages (from scikit-image->paddleocr) (2023.9.26)\n",
            "Requirement already satisfied: PyWavelets>=1.1.1 in /usr/local/lib/python3.10/dist-packages (from scikit-image->paddleocr) (1.4.1)\n",
            "Requirement already satisfied: packaging>=20.0 in /usr/local/lib/python3.10/dist-packages (from scikit-image->paddleocr) (23.2)\n",
            "Requirement already satisfied: et-xmlfile in /usr/local/lib/python3.10/dist-packages (from openpyxl->paddleocr) (1.1.0)\n",
            "Requirement already satisfied: typing-extensions in /usr/local/lib/python3.10/dist-packages (from python-docx->paddleocr) (4.5.0)\n",
            "Requirement already satisfied: cssselect in /usr/local/lib/python3.10/dist-packages (from premailer->paddleocr) (1.2.0)\n",
            "Requirement already satisfied: cssutils in /usr/local/lib/python3.10/dist-packages (from premailer->paddleocr) (2.9.0)\n",
            "Requirement already satisfied: cachetools in /usr/local/lib/python3.10/dist-packages (from premailer->paddleocr) (5.3.2)\n",
            "Requirement already satisfied: bce-python-sdk in /usr/local/lib/python3.10/dist-packages (from visualdl->paddleocr) (0.8.97)\n",
            "Requirement already satisfied: Flask-Babel>=3.0.0 in /usr/local/lib/python3.10/dist-packages (from visualdl->paddleocr) (4.0.0)\n",
            "Requirement already satisfied: protobuf>=3.20.0 in /usr/local/lib/python3.10/dist-packages (from visualdl->paddleocr) (3.20.3)\n",
            "Requirement already satisfied: pandas in /usr/local/lib/python3.10/dist-packages (from visualdl->paddleocr) (1.5.3)\n",
            "Requirement already satisfied: rarfile in /usr/local/lib/python3.10/dist-packages (from visualdl->paddleocr) (4.1)\n",
            "Requirement already satisfied: psutil in /usr/local/lib/python3.10/dist-packages (from visualdl->paddleocr) (5.9.5)\n",
            "Requirement already satisfied: Babel>=2.12 in /usr/local/lib/python3.10/dist-packages (from Flask-Babel>=3.0.0->visualdl->paddleocr) (2.13.1)\n",
            "Requirement already satisfied: pytz>=2022.7 in /usr/local/lib/python3.10/dist-packages (from Flask-Babel>=3.0.0->visualdl->paddleocr) (2023.3.post1)\n",
            "Requirement already satisfied: pycryptodome>=3.8.0 in /usr/local/lib/python3.10/dist-packages (from bce-python-sdk->visualdl->paddleocr) (3.19.0)\n",
            "Requirement already satisfied: future>=0.6.0 in /usr/local/lib/python3.10/dist-packages (from bce-python-sdk->visualdl->paddleocr) (0.18.3)\n",
            "Requirement already satisfied: contourpy>=1.0.1 in /usr/local/lib/python3.10/dist-packages (from matplotlib->imgaug->paddleocr) (1.2.0)\n",
            "Requirement already satisfied: cycler>=0.10 in /usr/local/lib/python3.10/dist-packages (from matplotlib->imgaug->paddleocr) (0.12.1)\n",
            "Requirement already satisfied: kiwisolver>=1.0.1 in /usr/local/lib/python3.10/dist-packages (from matplotlib->imgaug->paddleocr) (1.4.5)\n",
            "Requirement already satisfied: pyparsing>=2.3.1 in /usr/local/lib/python3.10/dist-packages (from matplotlib->imgaug->paddleocr) (3.1.1)\n",
            "Requirement already satisfied: python-dateutil>=2.7 in /usr/local/lib/python3.10/dist-packages (from matplotlib->imgaug->paddleocr) (2.8.2)\n"
          ]
        }
      ],
      "source": [
        "pip install paddleocr flask gtts"
      ]
    },
    {
      "cell_type": "code",
      "source": [
        "pip install paddlepaddle"
      ],
      "metadata": {
        "colab": {
          "base_uri": "https://localhost:8080/"
        },
        "id": "Z6UuJRWxzkzi",
        "outputId": "9c0c8d1e-8cd7-4058-a4d8-57627ce9eb9a"
      },
      "execution_count": 57,
      "outputs": [
        {
          "output_type": "stream",
          "name": "stdout",
          "text": [
            "Requirement already satisfied: paddlepaddle in /usr/local/lib/python3.10/dist-packages (2.5.2)\n",
            "Requirement already satisfied: httpx in /usr/local/lib/python3.10/dist-packages (from paddlepaddle) (0.25.2)\n",
            "Requirement already satisfied: numpy>=1.13 in /usr/local/lib/python3.10/dist-packages (from paddlepaddle) (1.23.5)\n",
            "Requirement already satisfied: Pillow in /usr/local/lib/python3.10/dist-packages (from paddlepaddle) (10.0.1)\n",
            "Requirement already satisfied: decorator in /usr/local/lib/python3.10/dist-packages (from paddlepaddle) (4.4.2)\n",
            "Requirement already satisfied: astor in /usr/local/lib/python3.10/dist-packages (from paddlepaddle) (0.8.1)\n",
            "Requirement already satisfied: opt-einsum==3.3.0 in /usr/local/lib/python3.10/dist-packages (from paddlepaddle) (3.3.0)\n",
            "Requirement already satisfied: protobuf>=3.20.2 in /usr/local/lib/python3.10/dist-packages (from paddlepaddle) (3.20.3)\n",
            "Requirement already satisfied: anyio in /usr/local/lib/python3.10/dist-packages (from httpx->paddlepaddle) (3.7.1)\n",
            "Requirement already satisfied: certifi in /usr/local/lib/python3.10/dist-packages (from httpx->paddlepaddle) (2023.7.22)\n",
            "Requirement already satisfied: httpcore==1.* in /usr/local/lib/python3.10/dist-packages (from httpx->paddlepaddle) (1.0.2)\n",
            "Requirement already satisfied: idna in /usr/local/lib/python3.10/dist-packages (from httpx->paddlepaddle) (3.4)\n",
            "Requirement already satisfied: sniffio in /usr/local/lib/python3.10/dist-packages (from httpx->paddlepaddle) (1.3.0)\n",
            "Requirement already satisfied: h11<0.15,>=0.13 in /usr/local/lib/python3.10/dist-packages (from httpcore==1.*->httpx->paddlepaddle) (0.14.0)\n",
            "Requirement already satisfied: exceptiongroup in /usr/local/lib/python3.10/dist-packages (from anyio->httpx->paddlepaddle) (1.1.3)\n"
          ]
        }
      ]
    },
    {
      "cell_type": "code",
      "source": [
        "!git clone https://github.com/PaddlePaddle/PaddleOCR"
      ],
      "metadata": {
        "colab": {
          "base_uri": "https://localhost:8080/"
        },
        "id": "kwvrEO870O5b",
        "outputId": "99041d39-7f07-4109-ac74-d385a0f3068e"
      },
      "execution_count": 58,
      "outputs": [
        {
          "output_type": "stream",
          "name": "stdout",
          "text": [
            "fatal: destination path 'PaddleOCR' already exists and is not an empty directory.\n"
          ]
        }
      ]
    },
    {
      "cell_type": "code",
      "source": [
        "import os\n",
        "from paddleocr import PaddleOCR\n",
        "from PIL import Image\n",
        "from gtts import gTTS"
      ],
      "metadata": {
        "id": "7EbjVLJozk15"
      },
      "execution_count": 59,
      "outputs": []
    },
    {
      "cell_type": "code",
      "source": [
        "ocr = PaddleOCR()"
      ],
      "metadata": {
        "colab": {
          "base_uri": "https://localhost:8080/"
        },
        "id": "DkxxEJMezk5G",
        "outputId": "5032751d-5763-4431-82b7-c8bf6a3b94f8"
      },
      "execution_count": 60,
      "outputs": [
        {
          "output_type": "stream",
          "name": "stdout",
          "text": [
            "[2023/11/28 17:56:24] ppocr DEBUG: Namespace(help='==SUPPRESS==', use_gpu=False, use_xpu=False, use_npu=False, ir_optim=True, use_tensorrt=False, min_subgraph_size=15, precision='fp32', gpu_mem=500, gpu_id=0, image_dir=None, page_num=0, det_algorithm='DB', det_model_dir='/root/.paddleocr/whl/det/ch/ch_PP-OCRv4_det_infer', det_limit_side_len=960, det_limit_type='max', det_box_type='quad', det_db_thresh=0.3, det_db_box_thresh=0.6, det_db_unclip_ratio=1.5, max_batch_size=10, use_dilation=False, det_db_score_mode='fast', det_east_score_thresh=0.8, det_east_cover_thresh=0.1, det_east_nms_thresh=0.2, det_sast_score_thresh=0.5, det_sast_nms_thresh=0.2, det_pse_thresh=0, det_pse_box_thresh=0.85, det_pse_min_area=16, det_pse_scale=1, scales=[8, 16, 32], alpha=1.0, beta=1.0, fourier_degree=5, rec_algorithm='SVTR_LCNet', rec_model_dir='/root/.paddleocr/whl/rec/ch/ch_PP-OCRv4_rec_infer', rec_image_inverse=True, rec_image_shape='3, 48, 320', rec_batch_num=6, max_text_length=25, rec_char_dict_path='/usr/local/lib/python3.10/dist-packages/paddleocr/ppocr/utils/ppocr_keys_v1.txt', use_space_char=True, vis_font_path='./doc/fonts/simfang.ttf', drop_score=0.5, e2e_algorithm='PGNet', e2e_model_dir=None, e2e_limit_side_len=768, e2e_limit_type='max', e2e_pgnet_score_thresh=0.5, e2e_char_dict_path='./ppocr/utils/ic15_dict.txt', e2e_pgnet_valid_set='totaltext', e2e_pgnet_mode='fast', use_angle_cls=False, cls_model_dir='/root/.paddleocr/whl/cls/ch_ppocr_mobile_v2.0_cls_infer', cls_image_shape='3, 48, 192', label_list=['0', '180'], cls_batch_num=6, cls_thresh=0.9, enable_mkldnn=False, cpu_threads=10, use_pdserving=False, warmup=False, sr_model_dir=None, sr_image_shape='3, 32, 128', sr_batch_num=1, draw_img_save_dir='./inference_results', save_crop_res=False, crop_res_save_dir='./output', use_mp=False, total_process_num=1, process_id=0, benchmark=False, save_log_path='./log_output/', show_log=True, use_onnx=False, output='./output', table_max_len=488, table_algorithm='TableAttn', table_model_dir=None, merge_no_span_structure=True, table_char_dict_path=None, layout_model_dir=None, layout_dict_path=None, layout_score_threshold=0.5, layout_nms_threshold=0.5, kie_algorithm='LayoutXLM', ser_model_dir=None, re_model_dir=None, use_visual_backbone=True, ser_dict_path='../train_data/XFUND/class_list_xfun.txt', ocr_order_method=None, mode='structure', image_orientation=False, layout=True, table=True, ocr=True, recovery=False, use_pdf2docx_api=False, invert=False, binarize=False, alphacolor=(255, 255, 255), lang='ch', det=True, rec=True, type='ocr', ocr_version='PP-OCRv4', structure_version='PP-StructureV2')\n"
          ]
        }
      ]
    },
    {
      "cell_type": "code",
      "source": [
        "from google.colab.patches import cv2_imshow\n",
        "import cv2\n",
        ""
      ],
      "metadata": {
        "id": "bC32UZFE373w"
      },
      "execution_count": 61,
      "outputs": []
    },
    {
      "cell_type": "code",
      "source": [
        "image_path=\"/content/amoxicillin.jpeg\"\n",
        "image = Image.open(image_path)\n",
        "results = ocr.ocr(image_path)\n",
        "\n",
        "extracted_text = ''\n",
        "for line in results[0]:\n",
        "    for word_info in line:\n",
        "        if isinstance(word_info,tuple):\n",
        "            extracted_text += word_info[0] + ' '\n",
        "print(extracted_text)"
      ],
      "metadata": {
        "colab": {
          "base_uri": "https://localhost:8080/"
        },
        "id": "9fODizHEzk8G",
        "outputId": "76afc96d-4be1-4cf1-9479-9f49b3dd5632"
      },
      "execution_count": 62,
      "outputs": [
        {
          "output_type": "stream",
          "name": "stdout",
          "text": [
            "[2023/11/28 17:56:35] ppocr WARNING: Since the angle classifier is not initialized, it will not be used during the forward process\n",
            "[2023/11/28 17:56:35] ppocr DEBUG: dt_boxes num : 6, elapsed : 0.11603260040283203\n",
            "[2023/11/28 17:56:36] ppocr DEBUG: rec_res num  : 6, elapsed : 1.280149221420288\n",
            "2.6g30 Amoyolin& Oral SuspensionIP Potassium Clavulanate Fealmox-CV \n"
          ]
        }
      ]
    },
    {
      "cell_type": "code",
      "source": [
        "tts=gTTS(extracted_text)"
      ],
      "metadata": {
        "id": "FcJg5wR17PJE"
      },
      "execution_count": 63,
      "outputs": []
    },
    {
      "cell_type": "code",
      "source": [
        "audio_path=\"labelreading.mp3\"\n",
        "tts.save(audio_path)"
      ],
      "metadata": {
        "id": "RxAPDc5c7fas"
      },
      "execution_count": 64,
      "outputs": []
    },
    {
      "cell_type": "code",
      "source": [],
      "metadata": {
        "id": "AIE6E7WJ7xjs"
      },
      "execution_count": null,
      "outputs": []
    },
    {
      "cell_type": "code",
      "source": [
        "# Display extracted text\n",
        "print(\"Extracted Prescription Text:\")\n",
        "print(extracted_text)"
      ],
      "metadata": {
        "colab": {
          "base_uri": "https://localhost:8080/"
        },
        "id": "8Q4cOFvD2ZjS",
        "outputId": "796e59b6-26a5-43bf-ab54-339e590e5974"
      },
      "execution_count": 65,
      "outputs": [
        {
          "output_type": "stream",
          "name": "stdout",
          "text": [
            "Extracted Prescription Text:\n",
            "2.6g30 Amoyolin& Oral SuspensionIP Potassium Clavulanate Fealmox-CV \n"
          ]
        }
      ]
    },
    {
      "cell_type": "code",
      "source": [
        "# Convert text to speech\n",
        "from IPython.display import Audio\n",
        "Audio(audio_path)"
      ],
      "metadata": {
        "colab": {
          "base_uri": "https://localhost:8080/",
          "height": 75
        },
        "id": "R6uvuODL5EZv",
        "outputId": "a14a5669-6aec-4df0-de1a-f069a33d9e7a"
      },
      "execution_count": 66,
      "outputs": [
        {
          "output_type": "execute_result",
          "data": {
            "text/plain": [
              "<IPython.lib.display.Audio object>"
            ],
            "text/html": [
              "\n",
              "                <audio  controls=\"controls\" >\n",
              "                    <source src=\"data:audio/mpeg;base64,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\" type=\"audio/mpeg\" />\n",
              "                    Your browser does not support the audio element.\n",
              "                </audio>\n",
              "              "
            ]
          },
          "metadata": {},
          "execution_count": 66
        }
      ]
    }
  ]
}